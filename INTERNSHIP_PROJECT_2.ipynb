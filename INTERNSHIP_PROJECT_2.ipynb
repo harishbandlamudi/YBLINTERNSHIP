{
  "nbformat": 4,
  "nbformat_minor": 0,
  "metadata": {
    "colab": {
      "provenance": []
    },
    "kernelspec": {
      "name": "python3",
      "display_name": "Python 3"
    },
    "language_info": {
      "name": "python"
    }
  },
  "cells": [
    {
      "cell_type": "markdown",
      "source": [
        "##Hill and Valley Prediction"
      ],
      "metadata": {
        "id": "Ht_T2Jd03M_R"
      }
    },
    {
      "cell_type": "markdown",
      "source": [
        "##GET UNDERSTANDING ABOUT DATA SEt"
      ],
      "metadata": {
        "id": "MuIfJmZ73BZ7"
      }
    },
    {
      "cell_type": "markdown",
      "source": [
        "Recommender System is a system that seeks to predict or fitter preferences according to the user's choices Recommender systems are utilized in a variety of areas including movies, music, news, books, research articles, search queries, social tags, and products in general Recommender systems produce a list of recommendations in any of the two ways-\n",
        "\n",
        "Collaborative filtering: Collaborative filtering approaches build a model from the user's past behavior (e. items purchased or searched by the user) as well as similar decisions made by other users. This model is then used to predict tams (or ratings for terms) that users may have an Interest in\n",
        "\n",
        "Content-based filtering: Content based filtering approaches uses a series of discrete characteristics of an fem in order to recommend additional items with similar properties Content based filtering methods are totally based on a description of the item and a profile of the user preferences. It recommends items based on the user's past preferences Let's develop a basic recommendation system using Python and Pandas\n",
        "\n",
        "Ler's develop a basic recommendation system by suggesting items that are most similes to a particular dem, in this case, movies it just tells\n",
        "\n",
        "what movies/tems are most similar to the user's movie choice\n",
        "\n"
      ],
      "metadata": {
        "id": "zsLsZhTk3LDi"
      }
    },
    {
      "cell_type": "code",
      "source": [
        "import pandas as pd\n",
        "import numpy as np"
      ],
      "metadata": {
        "id": "ofn4y5wU3Wtq"
      },
      "execution_count": null,
      "outputs": []
    },
    {
      "cell_type": "code",
      "source": [],
      "metadata": {
        "id": "BHr4LHyV3p4j"
      },
      "execution_count": null,
      "outputs": []
    }
  ]
}